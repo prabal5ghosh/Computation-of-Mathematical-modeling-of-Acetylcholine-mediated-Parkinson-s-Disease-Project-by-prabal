{
  "nbformat": 4,
  "nbformat_minor": 0,
  "metadata": {
    "colab": {
      "name": "prabal_ghosh_final_project_parkinsons.ipynb",
      "provenance": [],
      "collapsed_sections": [],
      "authorship_tag": "ABX9TyPG/vyq9eQiYSxlPxWGq1Ej",
      "include_colab_link": true
    },
    "kernelspec": {
      "name": "python3",
      "display_name": "Python 3"
    },
    "language_info": {
      "name": "python"
    }
  },
  "cells": [
    {
      "cell_type": "markdown",
      "metadata": {
        "id": "view-in-github",
        "colab_type": "text"
      },
      "source": [
        "<a href=\"https://colab.research.google.com/github/prabal5ghosh/Computation-of-Mathematical-modeling-of-Acetylcholine-mediated-Parkinson-s-Disease-Project-by-prabal/blob/main/prabal_ghosh_final_project_parkinsons.ipynb\" target=\"_parent\"><img src=\"https://colab.research.google.com/assets/colab-badge.svg\" alt=\"Open In Colab\"/></a>"
      ]
    },
    {
      "cell_type": "markdown",
      "source": [
        "# PRABAL GHOSH\n",
        "## ROLL-40\n",
        "# MCA"
      ],
      "metadata": {
        "id": "QjwEbMWA6F8v"
      }
    },
    {
      "cell_type": "code",
      "execution_count": 1,
      "metadata": {
        "id": "GKQ0BQTH5Ie1"
      },
      "outputs": [],
      "source": [
        "import tensorflow as tf"
      ]
    },
    {
      "cell_type": "code",
      "source": [
        "from tensorflow import keras\n"
      ],
      "metadata": {
        "id": "Cvd3Lrrv7fPK"
      },
      "execution_count": 2,
      "outputs": []
    },
    {
      "cell_type": "code",
      "source": [
        "import numpy as np"
      ],
      "metadata": {
        "id": "PTJLfl8w7gvG"
      },
      "execution_count": 3,
      "outputs": []
    },
    {
      "cell_type": "code",
      "source": [
        "import matplotlib.pyplot as plt"
      ],
      "metadata": {
        "id": "Rmbgbi9u7ixi"
      },
      "execution_count": 4,
      "outputs": []
    },
    {
      "cell_type": "code",
      "source": [
        "import math"
      ],
      "metadata": {
        "id": "dgq96Ckw7lKP"
      },
      "execution_count": 5,
      "outputs": []
    },
    {
      "cell_type": "code",
      "source": [
        ""
      ],
      "metadata": {
        "id": "fajBjJZ--Req"
      },
      "execution_count": null,
      "outputs": []
    },
    {
      "cell_type": "code",
      "source": [
        "N=4\n",
        "dict_1={\"Wijgs\":0,\"Sj\": [0.3 , 0.8 , 0.3 , 0.2],\"Wiigc\":0.48,\"Yjc\":1,\"alpha\":1,\"DA\":0.45,\"Yig\":1,\"Vg\":0.3,\"Wgh\":-1,\"Yh\":1,\"Wijns\":0,\"Wiinc\":1.08,\"beta\":-1,\"Wnh\":1,\"lij\":-1.2,\"Wiien\":-2.2,\"Westn\":1,\"Ie\":1,\"Wiiig\":-12,\"Wiiie\":-3,\"Yie\":1,\"Wistn\":14,\"Ii\":3,\"Wiiti\":-3,\"Wiitc\":3}\n",
        "tou=0.10\n",
        "\n",
        "toL=0.50\n",
        "dict_2={\"Wijcs\":0.2,\"Wiict\":4 ,\"Yit\":1}\n",
        "\n",
        "dict_4={\"Yin\":1,\"Ystn\":1}\n",
        "\n",
        "dict_5={\"Yig\":1,\"Ystn\":1}"
      ],
      "metadata": {
        "id": "1VV7r4aJ-RTo"
      },
      "execution_count": 10,
      "outputs": []
    },
    {
      "cell_type": "code",
      "source": [
        "dict_3={\"gama\": 1.25,\"Ih\": -1}  # change it "
      ],
      "metadata": {
        "id": "ycXUqZjZ-RG_"
      },
      "execution_count": 11,
      "outputs": []
    },
    {
      "cell_type": "markdown",
      "source": [
        "# EQUATION NO-01\n",
        "\n",
        "𝑥𝑖 =\n",
        "N\n",
        "∑\n",
        "𝑗=1\n",
        "𝑤𝑖𝑗𝑦𝑗 + 𝐼𝑖. (1)"
      ],
      "metadata": {
        "id": "97EPBWC98NWN"
      }
    },
    {
      "cell_type": "code",
      "source": [
        "dict_6={\"Wij\":0.2,\"Yj\":1,\"Ii\":3}"
      ],
      "metadata": {
        "id": "bmukU4k_7lGp"
      },
      "execution_count": 6,
      "outputs": []
    },
    {
      "cell_type": "code",
      "source": [
        "# function to be solved\n",
        "def f2_eqn_1(t,Uin):\n",
        "    j=1\n",
        "    sum_1=0\n",
        "    while j<=4:\n",
        "        sum_1=sum_1+dict_6[\"Wij\"]*dict_6[\"Yj\"] + dict_6[\"Ii\"]\n",
        "        j=j+1\n",
        "    \n",
        "    return sum_1\n",
        "    \n",
        "  #(1/tou)(-Uig+sum_1)  "
      ],
      "metadata": {
        "id": "_u77TYtR7lC7"
      },
      "execution_count": 7,
      "outputs": []
    },
    {
      "cell_type": "code",
      "source": [
        "x1=f2_eqn_1(0,1)"
      ],
      "metadata": {
        "id": "Jre8Fx7_7k_k"
      },
      "execution_count": 8,
      "outputs": []
    },
    {
      "cell_type": "code",
      "source": [
        "x1"
      ],
      "metadata": {
        "colab": {
          "base_uri": "https://localhost:8080/"
        },
        "id": "eRMGOzkb7k7_",
        "outputId": "2613fd16-8cf8-424b-8d75-f25ee62c12df"
      },
      "execution_count": 9,
      "outputs": [
        {
          "output_type": "execute_result",
          "data": {
            "text/plain": [
              "12.8"
            ]
          },
          "metadata": {},
          "execution_count": 9
        }
      ]
    },
    {
      "cell_type": "code",
      "source": [
        ""
      ],
      "metadata": {
        "id": "kn6D1ua07k4J"
      },
      "execution_count": null,
      "outputs": []
    },
    {
      "cell_type": "markdown",
      "source": [
        "#EQUATION NO-02\n",
        "\n",
        "𝜏\n",
        "𝑑𝑢𝑖\n",
        "𝑑𝑡 = −𝑢𝑖 + 𝑥𝑖"
      ],
      "metadata": {
        "id": "icHAjA8K9ASo"
      }
    },
    {
      "cell_type": "code",
      "source": [
        "# function to be solved\n",
        "def f1122(t,Uig):\n",
        "    sum_1=-Uig+x1\n",
        "    duiidt=(1/tou)*(sum_1)\n",
        "    return duiidt"
      ],
      "metadata": {
        "id": "MpAWlL5i7k0f"
      },
      "execution_count": 12,
      "outputs": []
    },
    {
      "cell_type": "code",
      "source": [
        "# rk4 method in python witH PLOT\n",
        "import matplotlib.pyplot as plt\n",
        "list_1111_t=[]\n",
        "list_2222_t=[]\n",
        "#t,u,h= 0,1,0.5\n",
        "t_2,u_2= 0,1\n",
        "tn_2=int(input(\"enter the tn \"))\n",
        "n_2=int(input(\"enter the n \"))\n",
        "h_2=(tn_2-t_2)/n_2\n",
        "for i in range(5):\n",
        "    k1= h_2* f1122(t_2,u_2)\n",
        "    k2= h_2* f1122(t_2+0.5*h_2, u_2+0.5*k1)\n",
        "    k3= h_2* f1122(t_2+0.5*h_2, u_2+0.5*k2)\n",
        "    k4= h_2* f1122(t_2+h_2, u_2+k3)\n",
        "    u_2=u_2+ (k1+2*k2+2*k3+k4)/6.0\n",
        "    t_2=t_2+h_2\n",
        "    list_1111_t.append(t_2)\n",
        "    list_2222_t.append(u_2)\n",
        "\n",
        "   # print (x)\n",
        "plt.plot(list_1111_t,list_2222_t)\n",
        "plt.scatter(list_1111_t,list_2222_t)\n",
        "plt.show()"
      ],
      "metadata": {
        "colab": {
          "base_uri": "https://localhost:8080/",
          "height": 300
        },
        "id": "eB1TBCXH7kwn",
        "outputId": "4ef53517-d217-45bc-dc07-5ce265df2a84"
      },
      "execution_count": 15,
      "outputs": [
        {
          "name": "stdout",
          "output_type": "stream",
          "text": [
            "enter the tn 1\n",
            "enter the n 5\n"
          ]
        },
        {
          "output_type": "display_data",
          "data": {
            "text/plain": [
              "<Figure size 432x288 with 1 Axes>"
            ],
            "image/png": "[encoded data removed]"
          },
          "metadata": {
            "needs_background": "light"
          }
        }
      ]
    },
    {
      "cell_type": "code",
      "source": [
        ""
      ],
      "metadata": {
        "id": "kOff_pRY7kss"
      },
      "execution_count": null,
      "outputs": []
    },
    {
      "cell_type": "markdown",
      "source": [
        "#EQUATION NO-03\n",
        "\n",
        "𝑦𝑖 = 𝜍 (𝑢𝑖)"
      ],
      "metadata": {
        "id": "O78s6fOB9ILB"
      }
    },
    {
      "cell_type": "code",
      "source": [
        "sig_11222_t_1 = tf.nn.sigmoid(list_2222_t, name ='sigmoid')"
      ],
      "metadata": {
        "id": "_s5_qqJR7ko4"
      },
      "execution_count": null,
      "outputs": []
    },
    {
      "cell_type": "code",
      "source": [
        "tf.sigmoid(sig_11222_t_1)"
      ],
      "metadata": {
        "id": "wCcC4e457kkw"
      },
      "execution_count": null,
      "outputs": []
    },
    {
      "cell_type": "code",
      "source": [
        "plt.plot(list_2222_t, sig_11222_t_1, color = 'green')\n",
        "plt.title(' Thalamus.')\n",
        "plt.xlabel('Input')\n",
        "plt.ylabel('Result')\n",
        "plt.show()"
      ],
      "metadata": {
        "id": "Dt32Ed-Q7kgL"
      },
      "execution_count": null,
      "outputs": []
    },
    {
      "cell_type": "code",
      "source": [
        "sig_11222_t_2 = tf.keras.activations.sigmoid(list_2222_t)"
      ],
      "metadata": {
        "id": "O_yjVz8Y7kcJ"
      },
      "execution_count": null,
      "outputs": []
    },
    {
      "cell_type": "code",
      "source": [
        "sig_11222_t_2.numpy()"
      ],
      "metadata": {
        "id": "9Q2T0ek17kYk"
      },
      "execution_count": null,
      "outputs": []
    },
    {
      "cell_type": "code",
      "source": [
        "plt.plot(list_2222_t, sig_11222_t_2, color = 'green')\n",
        "plt.title(' Thalamus.')\n",
        "plt.xlabel('Input')\n",
        "plt.ylabel('Result')\n",
        "plt.show()"
      ],
      "metadata": {
        "id": "11t23rML7kVL"
      },
      "execution_count": null,
      "outputs": []
    },
    {
      "cell_type": "code",
      "source": [
        ""
      ],
      "metadata": {
        "id": "96l5tYaG7kRq"
      },
      "execution_count": null,
      "outputs": []
    },
    {
      "cell_type": "code",
      "source": [
        ""
      ],
      "metadata": {
        "id": "-ZSRaL4V7kN9"
      },
      "execution_count": null,
      "outputs": []
    },
    {
      "cell_type": "code",
      "source": [
        ""
      ],
      "metadata": {
        "id": "1UpKMwNA7kJ8"
      },
      "execution_count": null,
      "outputs": []
    },
    {
      "cell_type": "code",
      "source": [
        ""
      ],
      "metadata": {
        "id": "a7WRS82K7kFd"
      },
      "execution_count": null,
      "outputs": []
    },
    {
      "cell_type": "code",
      "source": [
        ""
      ],
      "metadata": {
        "id": "otH-Ra4R7kA6"
      },
      "execution_count": null,
      "outputs": []
    },
    {
      "cell_type": "code",
      "source": [
        ""
      ],
      "metadata": {
        "id": "-C2EH1iR7j9T"
      },
      "execution_count": null,
      "outputs": []
    },
    {
      "cell_type": "code",
      "source": [
        ""
      ],
      "metadata": {
        "id": "M__nJBzH7j5K"
      },
      "execution_count": null,
      "outputs": []
    }
  ]
}